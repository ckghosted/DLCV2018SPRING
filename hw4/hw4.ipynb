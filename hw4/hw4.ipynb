{
 "cells": [
  {
   "cell_type": "code",
   "execution_count": null,
   "metadata": {},
   "outputs": [],
   "source": [
    "import tensorflow as tf\n",
    "import numpy as np\n",
    "from model import VAE\n",
    "import os, re, glob\n",
    "os.environ['CUDA_VISIBLE_DEVICES'] = '2'\n",
    "import skimage\n",
    "import skimage.io\n",
    "\n",
    "import warnings\n",
    "warnings.simplefilter('ignore')"
   ]
  },
  {
   "cell_type": "code",
   "execution_count": null,
   "metadata": {
    "collapsed": true
   },
   "outputs": [],
   "source": [
    "train_path = '/data/put_data/cclin/ntu/dlcv2018/hw4/hw4_data/train'\n",
    "test_path = '/data/put_data/cclin/ntu/dlcv2018/hw4/hw4_data/test'\n",
    "\n",
    "latent_dim = 512\n",
    "lambda_kl = 1e-2\n",
    "Batch_Size = 32\n",
    "learning_rate = 1e-4\n",
    "patience = 20\n",
    "num_epoch = 200"
   ]
  },
  {
   "cell_type": "code",
   "execution_count": null,
   "metadata": {
    "collapsed": true
   },
   "outputs": [],
   "source": [
    "dir_name = 'VAE_dim512_lambda1e2_bs32_lr1e4_patience20'"
   ]
  },
  {
   "cell_type": "code",
   "execution_count": null,
   "metadata": {
    "scrolled": true
   },
   "outputs": [],
   "source": [
    "tf.reset_default_graph()\n",
    "\n",
    "with tf.Session() as sess:\n",
    "    net = VAE(sess,\n",
    "              model_name=dir_name,\n",
    "              latent_dim=latent_dim,\n",
    "              lambda_kl=lambda_kl)\n",
    "    net.build_model()\n",
    "    results = net.train(train_path=train_path,\n",
    "                        test_path=test_path,\n",
    "                        nEpochs=num_epoch,\n",
    "                        bsize=Batch_Size,\n",
    "                        learning_rate_start=learning_rate,\n",
    "                        patience=patience)"
   ]
  },
  {
   "cell_type": "code",
   "execution_count": null,
   "metadata": {
    "collapsed": true
   },
   "outputs": [],
   "source": [
    "np.save(os.path.join('/data/put_data/cclin/ntu/dlcv2018/hw4/results', dir_name, 'models', 'results.npy'), results)\n",
    "\n",
    "# fig, ax = plt.subplots(1,2, figsize=(16,6))\n",
    "# ax[0].plot(range(len(results[0])), results[0])\n",
    "# ax[0].set_xlabel('Training iterations')\n",
    "# ax[0].set_title('MSE')\n",
    "# ax[1].plot(range(len(results[1])), results[1])\n",
    "# ax[1].set_xlabel('Training iterations')\n",
    "# ax[1].set_title('KLD')\n",
    "# plt.savefig(os.path.join('/data/put_data/cclin/ntu/dlcv2018/hw4/results', dir_name, 'figure1_2.jpg'))\n",
    "# plt.close(fig)"
   ]
  },
  {
   "cell_type": "code",
   "execution_count": null,
   "metadata": {},
   "outputs": [],
   "source": [
    "tf.reset_default_graph()\n",
    "\n",
    "with tf.Session() as sess:\n",
    "    net = VAE(sess,\n",
    "              model_name=dir_name,\n",
    "              latent_dim=latent_dim,\n",
    "              lambda_kl=lambda_kl)\n",
    "    net.build_model()\n",
    "    results = net.inference(test_path=test_path,\n",
    "                            gen_from=os.path.join('/data/put_data/cclin/ntu/dlcv2018/hw4/results', dir_name, 'models'),\n",
    "                            out_path=os.path.join('/data/put_data/cclin/ntu/dlcv2018/hw4/results', dir_name),\n",
    "                            bsize=Batch_Size)"
   ]
  }
 ],
 "metadata": {
  "kernelspec": {
   "display_name": "Python 3",
   "language": "python",
   "name": "python3"
  },
  "language_info": {
   "codemirror_mode": {
    "name": "ipython",
    "version": 3
   },
   "file_extension": ".py",
   "mimetype": "text/x-python",
   "name": "python",
   "nbconvert_exporter": "python",
   "pygments_lexer": "ipython3",
   "version": "3.5.2"
  }
 },
 "nbformat": 4,
 "nbformat_minor": 2
}
