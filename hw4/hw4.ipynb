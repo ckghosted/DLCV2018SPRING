{
 "cells": [
  {
   "cell_type": "code",
   "execution_count": null,
   "metadata": {},
   "outputs": [],
   "source": [
    "import tensorflow as tf\n",
    "import numpy as np\n",
    "from model import VAE\n",
    "import os, re, glob\n",
    "os.environ['CUDA_VISIBLE_DEVICES'] = '2'\n",
    "import skimage\n",
    "import skimage.io\n",
    "\n",
    "import warnings\n",
    "warnings.simplefilter('ignore')"
   ]
  },
  {
   "cell_type": "code",
   "execution_count": null,
   "metadata": {
    "collapsed": true
   },
   "outputs": [],
   "source": [
    "train_path = '/data/put_data/cclin/ntu/dlcv2018/hw4/hw4_data/train'\n",
    "test_path = '/data/put_data/cclin/ntu/dlcv2018/hw4/hw4_data/test'\n",
    "\n",
    "latent_dim = 512\n",
    "lambda_kl = 1e-5\n",
    "Batch_Size = 32\n",
    "learning_rate = 1e-3\n",
    "num_epoch = 100"
   ]
  },
  {
   "cell_type": "code",
   "execution_count": null,
   "metadata": {
    "collapsed": true
   },
   "outputs": [],
   "source": [
    "dir_name = 'VAE_dim512_lambda1e5_bs32_lr1e3'"
   ]
  },
  {
   "cell_type": "code",
   "execution_count": null,
   "metadata": {
    "scrolled": true
   },
   "outputs": [],
   "source": [
    "tf.reset_default_graph()\n",
    "\n",
    "with tf.Session() as sess:\n",
    "    net = VAE(sess,\n",
    "              model_name=dir_name,\n",
    "              latent_dim=latent_dim,\n",
    "              lambda_kl=lambda_kl)\n",
    "    net.build_model()\n",
    "    results = net.train(train_path=train_path,\n",
    "                        test_path=test_path,\n",
    "                        nEpochs=num_epoch,\n",
    "                        bsize=Batch_Size,\n",
    "                        learning_rate_start=learning_rate)"
   ]
  }
 ],
 "metadata": {
  "kernelspec": {
   "display_name": "Python 3",
   "language": "python",
   "name": "python3"
  },
  "language_info": {
   "codemirror_mode": {
    "name": "ipython",
    "version": 3
   },
   "file_extension": ".py",
   "mimetype": "text/x-python",
   "name": "python",
   "nbconvert_exporter": "python",
   "pygments_lexer": "ipython3",
   "version": "3.5.2"
  }
 },
 "nbformat": 4,
 "nbformat_minor": 2
}
